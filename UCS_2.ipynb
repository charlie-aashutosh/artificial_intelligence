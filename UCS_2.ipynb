{
  "nbformat": 4,
  "nbformat_minor": 0,
  "metadata": {
    "colab": {
      "name": "UCS_2.ipynb",
      "provenance": [],
      "authorship_tag": "ABX9TyPfsq4Kq/nRf3A4H7a4bVww",
      "include_colab_link": true
    },
    "kernelspec": {
      "name": "python3",
      "display_name": "Python 3"
    }
  },
  "cells": [
    {
      "cell_type": "markdown",
      "metadata": {
        "id": "view-in-github",
        "colab_type": "text"
      },
      "source": [
        "<a href=\"https://colab.research.google.com/github/charlie-aashutosh/artificial_intelligence/blob/main/UCS_2.ipynb\" target=\"_parent\"><img src=\"https://colab.research.google.com/assets/colab-badge.svg\" alt=\"Open In Colab\"/></a>"
      ]
    },
    {
      "cell_type": "code",
      "metadata": {
        "id": "6MRNb1C7CxyT"
      },
      "source": [
        "def uniformCostSearch(problem):\r\n",
        "    \"\"\"Search the node of least total cost first.\"\"\"\r\n",
        "    nodes = PriorityQueue()\r\n",
        "    fringe = []\r\n",
        "    path = []\r\n",
        "    explored=set([])\r\n",
        "    priority=0\r\n",
        "    dict={}\r\n",
        "    start_node = problem.getStartState()\r\n",
        "    if problem.isGoalState(start_node):\r\n",
        "        return 'already in goal'\r\n",
        "    else:\r\n",
        "        nodes.push((start_node, path),priority)\r\n",
        "        dict[start_node] = 0\r\n",
        "        explored.add(start_node)\r\n",
        "        while (nodes):\r\n",
        "            curr, path = nodes.pop()\r\n",
        "\r\n",
        "            if problem.isGoalState(curr):\r\n",
        "                return path\r\n",
        "            else:\r\n",
        "                next = problem.getSuccessors(curr)\r\n",
        "                for node in nodes.heap:\r\n",
        "                    fringe.append(node[0])\r\n",
        "                for states in next:\r\n",
        "                        if states[0] not in (key for key in dict):\r\n",
        "                            cost=problem.getCostOfActions(path + [states[1]])\r\n",
        "                            nodes.push((states[0], path + [states[1]]),cost)\r\n",
        "                            dict[states[0]]=cost\r\n",
        "                            explored.add(states[0])\r\n",
        "                        elif states[0] in (key for key in dict) and (problem.getCostOfActions(path + [states[1]]) < dict[states[0]]) :\r\n",
        "                            cost = problem.getCostOfActions(path + [states[1]])\r\n",
        "                            nodes.push((states[0], path + [states[1]]), cost)\r\n",
        "                            dict[states[0]] = cost\r\n",
        "                            explored.add(states[0])"
      ],
      "execution_count": 1,
      "outputs": []
    },
    {
      "cell_type": "code",
      "metadata": {
        "id": "x7_JxxSdC0rX"
      },
      "source": [
        ""
      ],
      "execution_count": null,
      "outputs": []
    }
  ]
}