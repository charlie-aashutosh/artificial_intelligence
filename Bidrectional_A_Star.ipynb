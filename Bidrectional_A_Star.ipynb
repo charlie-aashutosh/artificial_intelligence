{
  "nbformat": 4,
  "nbformat_minor": 0,
  "metadata": {
    "colab": {
      "name": "Bidrectional_A_Star.ipynb",
      "provenance": [],
      "authorship_tag": "ABX9TyPqHqp4MSCp3LBGyBwVM3GT",
      "include_colab_link": true
    },
    "kernelspec": {
      "name": "python3",
      "display_name": "Python 3"
    }
  },
  "cells": [
    {
      "cell_type": "markdown",
      "metadata": {
        "id": "view-in-github",
        "colab_type": "text"
      },
      "source": [
        "<a href=\"https://colab.research.google.com/github/charlie-aashutosh/artificial_intelligence/blob/main/Bidrectional_A_Star.ipynb\" target=\"_parent\"><img src=\"https://colab.research.google.com/assets/colab-badge.svg\" alt=\"Open In Colab\"/></a>"
      ]
    },
    {
      "cell_type": "code",
      "metadata": {
        "colab": {
          "base_uri": "https://localhost:8080/",
          "height": 131
        },
        "id": "bOJziCFJFjPD",
        "outputId": "585eb932-2ef8-4678-d8b5-79f96c1b7512"
      },
      "source": [
        "def bidirectional_a_star(graph, start, goal,\r\n",
        "                         heuristic=euclidean_dist_heuristic):\r\n",
        "    \r\n",
        "    if start == goal:\r\n",
        "      return []\r\n",
        "    \r\n",
        "    mu = float(\"inf\")\r\n",
        "    interNode = None\r\n",
        "\r\n",
        "    srcFrontier = PriorityQueue()\r\n",
        "    srcExplored = []\r\n",
        "    srcPathMap = {}\r\n",
        "    srcG = {}\r\n",
        "    srcFrontier.append((heuristic(graph, start, goal),start))\r\n",
        "    srcG[start] = 0\r\n",
        "\r\n",
        "    tgtFrontier = PriorityQueue()\r\n",
        "    tgtExplored = []\r\n",
        "    tgtPathMap = {}\r\n",
        "    tgtG = {}\r\n",
        "    tgtFrontier.append((0,goal))\r\n",
        "    tgtG[goal] = 0\r\n",
        "\r\n",
        "    while srcFrontier.size() != 0 and tgtFrontier.size() != 0:\r\n",
        "      sCost = srcFrontier.top()\r\n",
        "      gCost = tgtFrontier.top()\r\n",
        "      pr_t = -1 * pf(start, goal, goal, heuristic, graph) \r\n",
        "      print(' ')\r\n",
        "      print('srcFrontier - ',srcFrontier,' tgtFrontier - ',tgtFrontier)\r\n",
        "\t\r\n",
        "\tif sCost[0] + gCost[0] >= mu:\r\n",
        "    fPath = getFPath(srcPathMap, start, interNode)\r\n",
        "    rPath = getFPath(tgtPathMap, goal, interNode)\r\n",
        "    finalPath = fPath\r\n",
        "    rPath = rPath[:-1]\r\n",
        "    for rev in reversed(rPath):\r\n",
        "      finalPath.append(rev)\r\n",
        "      print('finalPath - ', finalPath)\r\n",
        "      return finalPath\r\n",
        "\t\r\n",
        "\t#Forward Search\r\n",
        "\tfPath = srcFrontier.pop()\r\n",
        "\tfNode = fPath[1]\r\n",
        "\tf_fCost_Node = fPath[0]\r\n",
        "\tf_hCost_Node = pf(start, goal, fNode, heuristic, graph)\r\n",
        "\tf_gCost_Node = srcG[fNode]\r\n",
        "\tsrcExplored.append(fNode)\r\n",
        "\tfor fNeigh in graph.neighbors(fNode):\r\n",
        "\t\tf_gCost_Neigh =  f_gCost_Node + graph[fNode][fNeigh]['weight']\r\n",
        "\t\tprint('FwdSrch - parent : ',fNode,' neigh : ',fNeigh,' cost to neigh : ',f_gCost_Neigh,' f_fCost_Node : ',f_fCost_Node)\r\n",
        "\t\tif fNeigh in tgtExplored:\r\n",
        "\t\t\ttotal = f_gCost_Neigh + tgtG[fNeigh]\r\n",
        "\t\t\tif total < mu:\t\r\n",
        "\t\t\t\tmu = total\r\n",
        "\t\t\t\tinterNode = fNeigh\r\n",
        "\t\t\tprint(' **** FwdSrch : neigh - ',fNeigh,' explored by tgt, total - ',total,' mu -',mu)\r\n",
        "\t\tif srcFrontier.__contains__(fNeigh) is True:\r\n",
        "\t\t\tit = srcFrontier.__iter__()\r\n",
        "\t\t\tfor nodeItr in it:\r\n",
        "\t\t\t\tif nodeItr[1] == fNeigh and f_gCost_Neigh < srcG[fNeigh]:\r\n",
        "\t\t\t\t\tsrcFrontier.remove(nodeItr)\r\n",
        "\t\tif fNeigh not in srcExplored \\\r\n",
        "\t\tand srcFrontier.__contains__(fNeigh) is False:\r\n",
        "\t\t\tf_fCost_Neigh = f_gCost_Neigh + pf(start, goal, fNeigh, heuristic, graph)\r\n",
        "\t\t\tsrcG[fNeigh] = f_gCost_Neigh\r\n",
        "\t\t\tsrcPathMap[fNeigh] = fNode\r\n",
        "\t\t\tsrcFrontier.append((f_fCost_Neigh,fNeigh))\r\n",
        "\r\n",
        "\t# Reverse Search\r\n",
        "\trPath = tgtFrontier.pop()\r\n",
        "\trNode = rPath[1]\r\n",
        "\tr_fCost_Node = rPath[0]\r\n",
        "\tr_hCost_Node = -1 * pf(start, goal, rNode, heuristic, graph)\r\n",
        "\tr_GCost_Node = tgtG[rNode]\r\n",
        "\ttgtExplored.append(rNode)\r\n",
        "\tfor rNeigh in graph.neighbors(rNode):\r\n",
        "\t\tr_gCost_Neigh = r_GCost_Node + graph[rNode][rNeigh]['weight']\r\n",
        "\t\tprint('RevSrch - parent : ',rNode,' neigh : ',rNeigh,' cost to neigh : ',r_gCost_Neigh,' r_fCost_Node : ',r_fCost_Node)\r\n",
        "\t\tif rNeigh in srcExplored:\r\n",
        "\t\t\ttotal = r_gCost_Neigh + srcG[rNeigh]\r\n",
        "\t\t\tif total < mu:\r\n",
        "\t\t\t\tmu = total\r\n",
        "\t\t\t\tinterNode = rNeigh\r\n",
        "\t\t\tprint(' ***** RevSrch : neigh - ',rNeigh,' explored by src, total - ',total,' mu -',mu)\r\n",
        "\t\tif tgtFrontier.__contains__(rNeigh) is True:\r\n",
        "\t\t\tit = tgtFrontier.__iter__()\r\n",
        "\t\t\tfor nodeItr in it:\r\n",
        "\t\t\t\tif nodeItr[1] == rNeigh and r_gCost_Neigh < tgtG[rNeigh]:\r\n",
        "\t\t\t\t\ttgtFrontier.remove(nodeItr)\r\n",
        "\t\tif rNeigh not in tgtExplored \\\r\n",
        "\t\tand tgtFrontier.__contains__(rNeigh) is False:\r\n",
        "\t\t\tr_fCost_Neigh = r_gCost_Neigh + (pf(start, goal, rNeigh, heuristic, graph) * -1)\r\n",
        "\t\t\ttgtG[rNeigh] = r_gCost_Neigh\r\n",
        "\t\t\ttgtPathMap[rNeigh] = rNode\r\n",
        "\t\t\ttgtFrontier.append((r_fCost_Neigh,rNeigh))\r\n"
      ],
      "execution_count": 11,
      "outputs": [
        {
          "output_type": "error",
          "ename": "TabError",
          "evalue": "ignored",
          "traceback": [
            "\u001b[0;36m  File \u001b[0;32m\"<ipython-input-11-197e1a0d99a8>\"\u001b[0;36m, line \u001b[0;32m42\u001b[0m\n\u001b[0;31m    if sCost[0] + gCost[0] >= mu:\u001b[0m\n\u001b[0m                                 ^\u001b[0m\n\u001b[0;31mTabError\u001b[0m\u001b[0;31m:\u001b[0m inconsistent use of tabs and spaces in indentation\n"
          ]
        }
      ]
    },
    {
      "cell_type": "code",
      "metadata": {
        "id": "lpI2Wd4OFktL"
      },
      "source": [
        ""
      ],
      "execution_count": null,
      "outputs": []
    }
  ]
}