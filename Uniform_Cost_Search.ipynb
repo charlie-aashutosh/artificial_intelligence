{
  "nbformat": 4,
  "nbformat_minor": 0,
  "metadata": {
    "colab": {
      "name": "Uniform_Cost_Search.ipynb",
      "provenance": [],
      "authorship_tag": "ABX9TyOprv5haucNEfp/AuDKgfZ1",
      "include_colab_link": true
    },
    "kernelspec": {
      "name": "python3",
      "display_name": "Python 3"
    }
  },
  "cells": [
    {
      "cell_type": "markdown",
      "metadata": {
        "id": "view-in-github",
        "colab_type": "text"
      },
      "source": [
        "<a href=\"https://colab.research.google.com/github/charlie-aashutosh/artificial_intelligence/blob/main/Uniform_Cost_Search.ipynb\" target=\"_parent\"><img src=\"https://colab.research.google.com/assets/colab-badge.svg\" alt=\"Open In Colab\"/></a>"
      ]
    },
    {
      "cell_type": "code",
      "metadata": {
        "id": "GzDwknBGBNJe"
      },
      "source": [
        "\r\n",
        "def uniform_cost_search(graph, start, goal):    \r\n",
        "    path = []    \r\n",
        "    explored_nodes = list()    \r\n",
        "    \r\n",
        "    if start == goal:    \r\n",
        "        return path, explored_nodes    \r\n",
        "    \r\n",
        "    path.append(start)    \r\n",
        "    path_cost = 0    \r\n",
        "    \r\n",
        "    frontier = [(path_cost, path)]    \r\n",
        "    while len(frontier) > 0:    \r\n",
        "        path_cost_till_now, path_till_now = pop_frontier(frontier)    \r\n",
        "        current_node = path_till_now[-1]    \r\n",
        "        explored_nodes.append(current_node)    \r\n",
        "    \r\n",
        "        if current_node == goal:    \r\n",
        "            return path_till_now, explored_nodes    \r\n",
        "    \r\n",
        "        neighbours = graph[current_node]    \r\n",
        "    \r\n",
        "        neighbours_list_int = [int(n) for n in neighbours]    \r\n",
        "        neighbours_list_int.sort(reverse=False)    \r\n",
        "        neighbours_list_str = [str(n) for n in neighbours_list_int]    \r\n",
        "    \r\n",
        "        for neighbour in neighbours_list_str:    \r\n",
        "            path_to_neighbour = path_till_now.copy()    \r\n",
        "            path_to_neighbour.append(neighbour)    \r\n",
        "    \r\n",
        "            extra_cost = 1    \r\n",
        "            neighbour_cost = extra_cost + path_cost_till_now    \r\n",
        "            new_element = (neighbour_cost, path_to_neighbour)    \r\n",
        "    \r\n",
        "            is_there, indexx, neighbour_old_cost, _ = get_frontier_params_new(neighbour, frontier)    \r\n",
        "    \r\n",
        "            if (neighbour not in explored_nodes) and not is_there:    \r\n",
        "                frontier.append(new_element)    \r\n",
        "            elif is_there:    \r\n",
        "                if neighbour_old_cost > neighbour_cost:    \r\n",
        "                    frontier.pop(indexx)    \r\n",
        "                    frontier.append(new_element)    \r\n",
        "    \r\n",
        "    return None, None  \r\n",
        "\r\n"
      ],
      "execution_count": 6,
      "outputs": []
    },
    {
      "cell_type": "code",
      "metadata": {
        "id": "Dy3cBNU_BQz9"
      },
      "source": [
        ""
      ],
      "execution_count": null,
      "outputs": []
    }
  ]
}